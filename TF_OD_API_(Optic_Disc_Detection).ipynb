{
  "nbformat": 4,
  "nbformat_minor": 0,
  "metadata": {
    "colab": {
      "name": "TF_OD_API (Optic Disc Detection).ipynb",
      "provenance": [],
      "collapsed_sections": [],
      "toc_visible": true,
      "include_colab_link": true
    },
    "kernelspec": {
      "name": "python3",
      "display_name": "Python 3"
    },
    "accelerator": "GPU"
  },
  "cells": [
    {
      "cell_type": "markdown",
      "metadata": {
        "id": "view-in-github",
        "colab_type": "text"
      },
      "source": [
        "<a href=\"https://colab.research.google.com/github/alegoritma/CSE-ImageProcessing-Project/blob/main/TF_OD_API_(Optic_Disc_Detection).ipynb\" target=\"_parent\"><img src=\"https://colab.research.google.com/assets/colab-badge.svg\" alt=\"Open In Colab\"/></a>"
      ]
    },
    {
      "cell_type": "code",
      "metadata": {
        "id": "CchNPoyf-NTh",
        "cellView": "form"
      },
      "source": [
        "#@title Auth and Dependencies\n",
        "from google.colab import auth\n",
        "auth.authenticate_user()\n",
        "%load_ext google.colab.data_table\n",
        "%%capture\n",
        "%%bash\n",
        "git clone --depth 1 https://github.com/tensorflow/models\n",
        "cd models/research/\n",
        "# Compile protos.\n",
        "protoc object_detection/protos/*.proto --python_out=.\n",
        "# Install TensorFlow Object Detection API.\n",
        "cp object_detection/packages/tf2/setup.py .\n",
        "python -m pip install ."
      ],
      "execution_count": null,
      "outputs": []
    },
    {
      "cell_type": "code",
      "metadata": {
        "id": "0bDUn_E1dUcU",
        "cellView": "form"
      },
      "source": [
        "#@title IMPORTS\r\n",
        "\r\n",
        "import os\r\n",
        "import sys\r\n",
        "import pathlib\r\n",
        "\r\n",
        "import matplotlib\r\n",
        "import matplotlib.pyplot as plt\r\n",
        "\r\n",
        "import io\r\n",
        "import scipy.misc\r\n",
        "import numpy as np\r\n",
        "from six import BytesIO\r\n",
        "from PIL import Image, ImageDraw, ImageFont\r\n",
        "from six.moves.urllib.request import urlopen\r\n",
        "\r\n",
        "from object_detection.utils import label_map_util\r\n",
        "from object_detection.utils import config_util\r\n",
        "from object_detection.utils import visualization_utils as viz_utils\r\n",
        "from object_detection.utils import colab_utils\r\n",
        "from object_detection.builders import model_builder\r\n",
        "\r\n",
        "import tensorflow as tf\r\n",
        "import tensorflow_hub as hub\r\n",
        "\r\n",
        "from tqdm import tqdm\r\n",
        "\r\n",
        "import requests\r\n",
        "import pandas as pd\r\n",
        "import bs4 as bs\r\n",
        "import json\r\n",
        "\r\n",
        "tf.get_logger().setLevel('ERROR')"
      ],
      "execution_count": null,
      "outputs": []
    },
    {
      "cell_type": "code",
      "metadata": {
        "id": "eBr2VEBbkcb8",
        "colab": {
          "base_uri": "https://localhost:8080/",
          "height": 864
        },
        "cellView": "form",
        "outputId": "14e616d2-fbfc-4737-f24c-07ae1db58847"
      },
      "source": [
        "#@title Pretrained Models\n",
        "zoo_url = 'https://github.com/tensorflow/models/blob/master/research/object_detection/g3doc/tf2_detection_zoo.md'\n",
        "response = requests.get(zoo_url)\n",
        "sp = bs.BeautifulSoup(response.content, 'lxml')\n",
        "tb = sp.find_all('table')[0] \n",
        "zoo_df = pd.read_html(str(tb),encoding='utf-8', header=0)[0]\n",
        "zoo_df['href'] = [np.where(tag.has_attr('href'),tag.get('href'),\"no link\") for tag in tb.find_all('a')]\n",
        "zoo_df"
      ],
      "execution_count": null,
      "outputs": [
        {
          "output_type": "execute_result",
          "data": {
            "application/vnd.google.colaboratory.module+javascript": "\n      import \"https://ssl.gstatic.com/colaboratory/data_table/a6224c040fa35dcf/data_table.js\";\n\n      window.createDataTable({\n        data: [[{\n            'v': 0,\n            'f': \"0\",\n        },\n\"CenterNet HourGlass104 512x512\",\n\"70\",\n\"41.9\",\n\"Boxes\",\n\"http://download.tensorflow.org/models/object_detection/tf2/20200713/centernet_hg104_512x512_coco17_tpu-8.tar.gz\"],\n [{\n            'v': 1,\n            'f': \"1\",\n        },\n\"CenterNet HourGlass104 Keypoints 512x512\",\n\"76\",\n\"40.0/61.4\",\n\"Boxes/Keypoints\",\n\"http://download.tensorflow.org/models/object_detection/tf2/20200711/centernet_hg104_512x512_kpts_coco17_tpu-32.tar.gz\"],\n [{\n            'v': 2,\n            'f': \"2\",\n        },\n\"CenterNet HourGlass104 1024x1024\",\n\"197\",\n\"44.5\",\n\"Boxes\",\n\"http://download.tensorflow.org/models/object_detection/tf2/20200713/centernet_hg104_1024x1024_coco17_tpu-32.tar.gz\"],\n [{\n            'v': 3,\n            'f': \"3\",\n        },\n\"CenterNet HourGlass104 Keypoints 1024x1024\",\n\"211\",\n\"42.8/64.5\",\n\"Boxes/Keypoints\",\n\"http://download.tensorflow.org/models/object_detection/tf2/20200711/centernet_hg104_1024x1024_kpts_coco17_tpu-32.tar.gz\"],\n [{\n            'v': 4,\n            'f': \"4\",\n        },\n\"CenterNet Resnet50 V1 FPN 512x512\",\n\"27\",\n\"31.2\",\n\"Boxes\",\n\"http://download.tensorflow.org/models/object_detection/tf2/20200711/centernet_resnet50_v1_fpn_512x512_coco17_tpu-8.tar.gz\"],\n [{\n            'v': 5,\n            'f': \"5\",\n        },\n\"CenterNet Resnet50 V1 FPN Keypoints 512x512\",\n\"30\",\n\"29.3/50.7\",\n\"Boxes/Keypoints\",\n\"http://download.tensorflow.org/models/object_detection/tf2/20200711/centernet_resnet50_v1_fpn_512x512_kpts_coco17_tpu-8.tar.gz\"],\n [{\n            'v': 6,\n            'f': \"6\",\n        },\n\"CenterNet Resnet101 V1 FPN 512x512\",\n\"34\",\n\"34.2\",\n\"Boxes\",\n\"http://download.tensorflow.org/models/object_detection/tf2/20200711/centernet_resnet101_v1_fpn_512x512_coco17_tpu-8.tar.gz\"],\n [{\n            'v': 7,\n            'f': \"7\",\n        },\n\"CenterNet Resnet50 V2 512x512\",\n\"27\",\n\"29.5\",\n\"Boxes\",\n\"http://download.tensorflow.org/models/object_detection/tf2/20200711/centernet_resnet50_v2_512x512_coco17_tpu-8.tar.gz\"],\n [{\n            'v': 8,\n            'f': \"8\",\n        },\n\"CenterNet Resnet50 V2 Keypoints 512x512\",\n\"30\",\n\"27.6/48.2\",\n\"Boxes/Keypoints\",\n\"http://download.tensorflow.org/models/object_detection/tf2/20200711/centernet_resnet50_v2_512x512_kpts_coco17_tpu-8.tar.gz\"],\n [{\n            'v': 9,\n            'f': \"9\",\n        },\n\"EfficientDet D0 512x512\",\n\"39\",\n\"33.6\",\n\"Boxes\",\n\"http://download.tensorflow.org/models/object_detection/tf2/20200711/efficientdet_d0_coco17_tpu-32.tar.gz\"],\n [{\n            'v': 10,\n            'f': \"10\",\n        },\n\"EfficientDet D1 640x640\",\n\"54\",\n\"38.4\",\n\"Boxes\",\n\"http://download.tensorflow.org/models/object_detection/tf2/20200711/efficientdet_d1_coco17_tpu-32.tar.gz\"],\n [{\n            'v': 11,\n            'f': \"11\",\n        },\n\"EfficientDet D2 768x768\",\n\"67\",\n\"41.8\",\n\"Boxes\",\n\"http://download.tensorflow.org/models/object_detection/tf2/20200711/efficientdet_d2_coco17_tpu-32.tar.gz\"],\n [{\n            'v': 12,\n            'f': \"12\",\n        },\n\"EfficientDet D3 896x896\",\n\"95\",\n\"45.4\",\n\"Boxes\",\n\"http://download.tensorflow.org/models/object_detection/tf2/20200711/efficientdet_d3_coco17_tpu-32.tar.gz\"],\n [{\n            'v': 13,\n            'f': \"13\",\n        },\n\"EfficientDet D4 1024x1024\",\n\"133\",\n\"48.5\",\n\"Boxes\",\n\"http://download.tensorflow.org/models/object_detection/tf2/20200711/efficientdet_d4_coco17_tpu-32.tar.gz\"],\n [{\n            'v': 14,\n            'f': \"14\",\n        },\n\"EfficientDet D5 1280x1280\",\n\"222\",\n\"49.7\",\n\"Boxes\",\n\"http://download.tensorflow.org/models/object_detection/tf2/20200711/efficientdet_d5_coco17_tpu-32.tar.gz\"],\n [{\n            'v': 15,\n            'f': \"15\",\n        },\n\"EfficientDet D6 1280x1280\",\n\"268\",\n\"50.5\",\n\"Boxes\",\n\"http://download.tensorflow.org/models/object_detection/tf2/20200711/efficientdet_d6_coco17_tpu-32.tar.gz\"],\n [{\n            'v': 16,\n            'f': \"16\",\n        },\n\"EfficientDet D7 1536x1536\",\n\"325\",\n\"51.2\",\n\"Boxes\",\n\"http://download.tensorflow.org/models/object_detection/tf2/20200711/efficientdet_d7_coco17_tpu-32.tar.gz\"],\n [{\n            'v': 17,\n            'f': \"17\",\n        },\n\"SSD MobileNet v2 320x320\",\n\"19\",\n\"20.2\",\n\"Boxes\",\n\"http://download.tensorflow.org/models/object_detection/tf2/20200711/ssd_mobilenet_v2_320x320_coco17_tpu-8.tar.gz\"],\n [{\n            'v': 18,\n            'f': \"18\",\n        },\n\"SSD MobileNet V1 FPN 640x640\",\n\"48\",\n\"29.1\",\n\"Boxes\",\n\"http://download.tensorflow.org/models/object_detection/tf2/20200711/ssd_mobilenet_v1_fpn_640x640_coco17_tpu-8.tar.gz\"],\n [{\n            'v': 19,\n            'f': \"19\",\n        },\n\"SSD MobileNet V2 FPNLite 320x320\",\n\"22\",\n\"22.2\",\n\"Boxes\",\n\"http://download.tensorflow.org/models/object_detection/tf2/20200711/ssd_mobilenet_v2_fpnlite_320x320_coco17_tpu-8.tar.gz\"],\n [{\n            'v': 20,\n            'f': \"20\",\n        },\n\"SSD MobileNet V2 FPNLite 640x640\",\n\"39\",\n\"28.2\",\n\"Boxes\",\n\"http://download.tensorflow.org/models/object_detection/tf2/20200711/ssd_mobilenet_v2_fpnlite_640x640_coco17_tpu-8.tar.gz\"],\n [{\n            'v': 21,\n            'f': \"21\",\n        },\n\"SSD ResNet50 V1 FPN 640x640 (RetinaNet50)\",\n\"46\",\n\"34.3\",\n\"Boxes\",\n\"http://download.tensorflow.org/models/object_detection/tf2/20200711/ssd_resnet50_v1_fpn_640x640_coco17_tpu-8.tar.gz\"],\n [{\n            'v': 22,\n            'f': \"22\",\n        },\n\"SSD ResNet50 V1 FPN 1024x1024 (RetinaNet50)\",\n\"87\",\n\"38.3\",\n\"Boxes\",\n\"http://download.tensorflow.org/models/object_detection/tf2/20200711/ssd_resnet50_v1_fpn_1024x1024_coco17_tpu-8.tar.gz\"],\n [{\n            'v': 23,\n            'f': \"23\",\n        },\n\"SSD ResNet101 V1 FPN 640x640 (RetinaNet101)\",\n\"57\",\n\"35.6\",\n\"Boxes\",\n\"http://download.tensorflow.org/models/object_detection/tf2/20200711/ssd_resnet101_v1_fpn_640x640_coco17_tpu-8.tar.gz\"],\n [{\n            'v': 24,\n            'f': \"24\",\n        },\n\"SSD ResNet101 V1 FPN 1024x1024 (RetinaNet101)\",\n\"104\",\n\"39.5\",\n\"Boxes\",\n\"http://download.tensorflow.org/models/object_detection/tf2/20200711/ssd_resnet101_v1_fpn_1024x1024_coco17_tpu-8.tar.gz\"],\n [{\n            'v': 25,\n            'f': \"25\",\n        },\n\"SSD ResNet152 V1 FPN 640x640 (RetinaNet152)\",\n\"80\",\n\"35.4\",\n\"Boxes\",\n\"http://download.tensorflow.org/models/object_detection/tf2/20200711/ssd_resnet152_v1_fpn_640x640_coco17_tpu-8.tar.gz\"],\n [{\n            'v': 26,\n            'f': \"26\",\n        },\n\"SSD ResNet152 V1 FPN 1024x1024 (RetinaNet152)\",\n\"111\",\n\"39.6\",\n\"Boxes\",\n\"http://download.tensorflow.org/models/object_detection/tf2/20200711/ssd_resnet152_v1_fpn_1024x1024_coco17_tpu-8.tar.gz\"],\n [{\n            'v': 27,\n            'f': \"27\",\n        },\n\"Faster R-CNN ResNet50 V1 640x640\",\n\"53\",\n\"29.3\",\n\"Boxes\",\n\"http://download.tensorflow.org/models/object_detection/tf2/20200711/faster_rcnn_resnet50_v1_640x640_coco17_tpu-8.tar.gz\"],\n [{\n            'v': 28,\n            'f': \"28\",\n        },\n\"Faster R-CNN ResNet50 V1 1024x1024\",\n\"65\",\n\"31.0\",\n\"Boxes\",\n\"http://download.tensorflow.org/models/object_detection/tf2/20200711/faster_rcnn_resnet50_v1_1024x1024_coco17_tpu-8.tar.gz\"],\n [{\n            'v': 29,\n            'f': \"29\",\n        },\n\"Faster R-CNN ResNet50 V1 800x1333\",\n\"65\",\n\"31.6\",\n\"Boxes\",\n\"http://download.tensorflow.org/models/object_detection/tf2/20200711/faster_rcnn_resnet50_v1_800x1333_coco17_gpu-8.tar.gz\"],\n [{\n            'v': 30,\n            'f': \"30\",\n        },\n\"Faster R-CNN ResNet101 V1 640x640\",\n\"55\",\n\"31.8\",\n\"Boxes\",\n\"http://download.tensorflow.org/models/object_detection/tf2/20200711/faster_rcnn_resnet101_v1_640x640_coco17_tpu-8.tar.gz\"],\n [{\n            'v': 31,\n            'f': \"31\",\n        },\n\"Faster R-CNN ResNet101 V1 1024x1024\",\n\"72\",\n\"37.1\",\n\"Boxes\",\n\"http://download.tensorflow.org/models/object_detection/tf2/20200711/faster_rcnn_resnet101_v1_1024x1024_coco17_tpu-8.tar.gz\"],\n [{\n            'v': 32,\n            'f': \"32\",\n        },\n\"Faster R-CNN ResNet101 V1 800x1333\",\n\"77\",\n\"36.6\",\n\"Boxes\",\n\"http://download.tensorflow.org/models/object_detection/tf2/20200711/faster_rcnn_resnet101_v1_800x1333_coco17_gpu-8.tar.gz\"],\n [{\n            'v': 33,\n            'f': \"33\",\n        },\n\"Faster R-CNN ResNet152 V1 640x640\",\n\"64\",\n\"32.4\",\n\"Boxes\",\n\"http://download.tensorflow.org/models/object_detection/tf2/20200711/faster_rcnn_resnet152_v1_640x640_coco17_tpu-8.tar.gz\"],\n [{\n            'v': 34,\n            'f': \"34\",\n        },\n\"Faster R-CNN ResNet152 V1 1024x1024\",\n\"85\",\n\"37.6\",\n\"Boxes\",\n\"http://download.tensorflow.org/models/object_detection/tf2/20200711/faster_rcnn_resnet152_v1_1024x1024_coco17_tpu-8.tar.gz\"],\n [{\n            'v': 35,\n            'f': \"35\",\n        },\n\"Faster R-CNN ResNet152 V1 800x1333\",\n\"101\",\n\"37.4\",\n\"Boxes\",\n\"http://download.tensorflow.org/models/object_detection/tf2/20200711/faster_rcnn_resnet152_v1_800x1333_coco17_gpu-8.tar.gz\"],\n [{\n            'v': 36,\n            'f': \"36\",\n        },\n\"Faster R-CNN Inception ResNet V2 640x640\",\n\"206\",\n\"37.7\",\n\"Boxes\",\n\"http://download.tensorflow.org/models/object_detection/tf2/20200711/faster_rcnn_inception_resnet_v2_640x640_coco17_tpu-8.tar.gz\"],\n [{\n            'v': 37,\n            'f': \"37\",\n        },\n\"Faster R-CNN Inception ResNet V2 1024x1024\",\n\"236\",\n\"38.7\",\n\"Boxes\",\n\"http://download.tensorflow.org/models/object_detection/tf2/20200711/faster_rcnn_inception_resnet_v2_1024x1024_coco17_tpu-8.tar.gz\"],\n [{\n            'v': 38,\n            'f': \"38\",\n        },\n\"Mask R-CNN Inception ResNet V2 1024x1024\",\n\"301\",\n\"39.0/34.6\",\n\"Boxes/Masks\",\n\"http://download.tensorflow.org/models/object_detection/tf2/20200711/mask_rcnn_inception_resnet_v2_1024x1024_coco17_gpu-8.tar.gz\"],\n [{\n            'v': 39,\n            'f': \"39\",\n        },\n\"ExtremeNet\",\n\"--\",\n\"--\",\n\"Boxes\",\n\"http://download.tensorflow.org/models/object_detection/tf2/20200711/extremenet.tar.gz\"]],\n        columns: [[\"number\", \"index\"], [\"string\", \"Model name\"], [\"string\", \"Speed (ms)\"], [\"string\", \"COCO mAP\"], [\"string\", \"Outputs\"], [\"string\", \"href\"]],\n        columnOptions: [{\"width\": \"1px\", \"className\": \"index_column\"}],\n        rowsPerPage: 25,\n        helpUrl: \"https://colab.research.google.com/notebooks/data_table.ipynb\",\n        suppressOutputScrolling: true,\n        minimumWidth: undefined,\n      });\n    ",
            "text/html": [
              "<div>\n",
              "<style scoped>\n",
              "    .dataframe tbody tr th:only-of-type {\n",
              "        vertical-align: middle;\n",
              "    }\n",
              "\n",
              "    .dataframe tbody tr th {\n",
              "        vertical-align: top;\n",
              "    }\n",
              "\n",
              "    .dataframe thead th {\n",
              "        text-align: right;\n",
              "    }\n",
              "</style>\n",
              "<table border=\"1\" class=\"dataframe\">\n",
              "  <thead>\n",
              "    <tr style=\"text-align: right;\">\n",
              "      <th></th>\n",
              "      <th>Model name</th>\n",
              "      <th>Speed (ms)</th>\n",
              "      <th>COCO mAP</th>\n",
              "      <th>Outputs</th>\n",
              "      <th>href</th>\n",
              "    </tr>\n",
              "  </thead>\n",
              "  <tbody>\n",
              "    <tr>\n",
              "      <th>0</th>\n",
              "      <td>CenterNet HourGlass104 512x512</td>\n",
              "      <td>70</td>\n",
              "      <td>41.9</td>\n",
              "      <td>Boxes</td>\n",
              "      <td>http://download.tensorflow.org/models/object_d...</td>\n",
              "    </tr>\n",
              "    <tr>\n",
              "      <th>1</th>\n",
              "      <td>CenterNet HourGlass104 Keypoints 512x512</td>\n",
              "      <td>76</td>\n",
              "      <td>40.0/61.4</td>\n",
              "      <td>Boxes/Keypoints</td>\n",
              "      <td>http://download.tensorflow.org/models/object_d...</td>\n",
              "    </tr>\n",
              "    <tr>\n",
              "      <th>2</th>\n",
              "      <td>CenterNet HourGlass104 1024x1024</td>\n",
              "      <td>197</td>\n",
              "      <td>44.5</td>\n",
              "      <td>Boxes</td>\n",
              "      <td>http://download.tensorflow.org/models/object_d...</td>\n",
              "    </tr>\n",
              "    <tr>\n",
              "      <th>3</th>\n",
              "      <td>CenterNet HourGlass104 Keypoints 1024x1024</td>\n",
              "      <td>211</td>\n",
              "      <td>42.8/64.5</td>\n",
              "      <td>Boxes/Keypoints</td>\n",
              "      <td>http://download.tensorflow.org/models/object_d...</td>\n",
              "    </tr>\n",
              "    <tr>\n",
              "      <th>4</th>\n",
              "      <td>CenterNet Resnet50 V1 FPN 512x512</td>\n",
              "      <td>27</td>\n",
              "      <td>31.2</td>\n",
              "      <td>Boxes</td>\n",
              "      <td>http://download.tensorflow.org/models/object_d...</td>\n",
              "    </tr>\n",
              "    <tr>\n",
              "      <th>5</th>\n",
              "      <td>CenterNet Resnet50 V1 FPN Keypoints 512x512</td>\n",
              "      <td>30</td>\n",
              "      <td>29.3/50.7</td>\n",
              "      <td>Boxes/Keypoints</td>\n",
              "      <td>http://download.tensorflow.org/models/object_d...</td>\n",
              "    </tr>\n",
              "    <tr>\n",
              "      <th>6</th>\n",
              "      <td>CenterNet Resnet101 V1 FPN 512x512</td>\n",
              "      <td>34</td>\n",
              "      <td>34.2</td>\n",
              "      <td>Boxes</td>\n",
              "      <td>http://download.tensorflow.org/models/object_d...</td>\n",
              "    </tr>\n",
              "    <tr>\n",
              "      <th>7</th>\n",
              "      <td>CenterNet Resnet50 V2 512x512</td>\n",
              "      <td>27</td>\n",
              "      <td>29.5</td>\n",
              "      <td>Boxes</td>\n",
              "      <td>http://download.tensorflow.org/models/object_d...</td>\n",
              "    </tr>\n",
              "    <tr>\n",
              "      <th>8</th>\n",
              "      <td>CenterNet Resnet50 V2 Keypoints 512x512</td>\n",
              "      <td>30</td>\n",
              "      <td>27.6/48.2</td>\n",
              "      <td>Boxes/Keypoints</td>\n",
              "      <td>http://download.tensorflow.org/models/object_d...</td>\n",
              "    </tr>\n",
              "    <tr>\n",
              "      <th>9</th>\n",
              "      <td>EfficientDet D0 512x512</td>\n",
              "      <td>39</td>\n",
              "      <td>33.6</td>\n",
              "      <td>Boxes</td>\n",
              "      <td>http://download.tensorflow.org/models/object_d...</td>\n",
              "    </tr>\n",
              "    <tr>\n",
              "      <th>10</th>\n",
              "      <td>EfficientDet D1 640x640</td>\n",
              "      <td>54</td>\n",
              "      <td>38.4</td>\n",
              "      <td>Boxes</td>\n",
              "      <td>http://download.tensorflow.org/models/object_d...</td>\n",
              "    </tr>\n",
              "    <tr>\n",
              "      <th>11</th>\n",
              "      <td>EfficientDet D2 768x768</td>\n",
              "      <td>67</td>\n",
              "      <td>41.8</td>\n",
              "      <td>Boxes</td>\n",
              "      <td>http://download.tensorflow.org/models/object_d...</td>\n",
              "    </tr>\n",
              "    <tr>\n",
              "      <th>12</th>\n",
              "      <td>EfficientDet D3 896x896</td>\n",
              "      <td>95</td>\n",
              "      <td>45.4</td>\n",
              "      <td>Boxes</td>\n",
              "      <td>http://download.tensorflow.org/models/object_d...</td>\n",
              "    </tr>\n",
              "    <tr>\n",
              "      <th>13</th>\n",
              "      <td>EfficientDet D4 1024x1024</td>\n",
              "      <td>133</td>\n",
              "      <td>48.5</td>\n",
              "      <td>Boxes</td>\n",
              "      <td>http://download.tensorflow.org/models/object_d...</td>\n",
              "    </tr>\n",
              "    <tr>\n",
              "      <th>14</th>\n",
              "      <td>EfficientDet D5 1280x1280</td>\n",
              "      <td>222</td>\n",
              "      <td>49.7</td>\n",
              "      <td>Boxes</td>\n",
              "      <td>http://download.tensorflow.org/models/object_d...</td>\n",
              "    </tr>\n",
              "    <tr>\n",
              "      <th>15</th>\n",
              "      <td>EfficientDet D6 1280x1280</td>\n",
              "      <td>268</td>\n",
              "      <td>50.5</td>\n",
              "      <td>Boxes</td>\n",
              "      <td>http://download.tensorflow.org/models/object_d...</td>\n",
              "    </tr>\n",
              "    <tr>\n",
              "      <th>16</th>\n",
              "      <td>EfficientDet D7 1536x1536</td>\n",
              "      <td>325</td>\n",
              "      <td>51.2</td>\n",
              "      <td>Boxes</td>\n",
              "      <td>http://download.tensorflow.org/models/object_d...</td>\n",
              "    </tr>\n",
              "    <tr>\n",
              "      <th>17</th>\n",
              "      <td>SSD MobileNet v2 320x320</td>\n",
              "      <td>19</td>\n",
              "      <td>20.2</td>\n",
              "      <td>Boxes</td>\n",
              "      <td>http://download.tensorflow.org/models/object_d...</td>\n",
              "    </tr>\n",
              "    <tr>\n",
              "      <th>18</th>\n",
              "      <td>SSD MobileNet V1 FPN 640x640</td>\n",
              "      <td>48</td>\n",
              "      <td>29.1</td>\n",
              "      <td>Boxes</td>\n",
              "      <td>http://download.tensorflow.org/models/object_d...</td>\n",
              "    </tr>\n",
              "    <tr>\n",
              "      <th>19</th>\n",
              "      <td>SSD MobileNet V2 FPNLite 320x320</td>\n",
              "      <td>22</td>\n",
              "      <td>22.2</td>\n",
              "      <td>Boxes</td>\n",
              "      <td>http://download.tensorflow.org/models/object_d...</td>\n",
              "    </tr>\n",
              "    <tr>\n",
              "      <th>20</th>\n",
              "      <td>SSD MobileNet V2 FPNLite 640x640</td>\n",
              "      <td>39</td>\n",
              "      <td>28.2</td>\n",
              "      <td>Boxes</td>\n",
              "      <td>http://download.tensorflow.org/models/object_d...</td>\n",
              "    </tr>\n",
              "    <tr>\n",
              "      <th>21</th>\n",
              "      <td>SSD ResNet50 V1 FPN 640x640 (RetinaNet50)</td>\n",
              "      <td>46</td>\n",
              "      <td>34.3</td>\n",
              "      <td>Boxes</td>\n",
              "      <td>http://download.tensorflow.org/models/object_d...</td>\n",
              "    </tr>\n",
              "    <tr>\n",
              "      <th>22</th>\n",
              "      <td>SSD ResNet50 V1 FPN 1024x1024 (RetinaNet50)</td>\n",
              "      <td>87</td>\n",
              "      <td>38.3</td>\n",
              "      <td>Boxes</td>\n",
              "      <td>http://download.tensorflow.org/models/object_d...</td>\n",
              "    </tr>\n",
              "    <tr>\n",
              "      <th>23</th>\n",
              "      <td>SSD ResNet101 V1 FPN 640x640 (RetinaNet101)</td>\n",
              "      <td>57</td>\n",
              "      <td>35.6</td>\n",
              "      <td>Boxes</td>\n",
              "      <td>http://download.tensorflow.org/models/object_d...</td>\n",
              "    </tr>\n",
              "    <tr>\n",
              "      <th>24</th>\n",
              "      <td>SSD ResNet101 V1 FPN 1024x1024 (RetinaNet101)</td>\n",
              "      <td>104</td>\n",
              "      <td>39.5</td>\n",
              "      <td>Boxes</td>\n",
              "      <td>http://download.tensorflow.org/models/object_d...</td>\n",
              "    </tr>\n",
              "    <tr>\n",
              "      <th>25</th>\n",
              "      <td>SSD ResNet152 V1 FPN 640x640 (RetinaNet152)</td>\n",
              "      <td>80</td>\n",
              "      <td>35.4</td>\n",
              "      <td>Boxes</td>\n",
              "      <td>http://download.tensorflow.org/models/object_d...</td>\n",
              "    </tr>\n",
              "    <tr>\n",
              "      <th>26</th>\n",
              "      <td>SSD ResNet152 V1 FPN 1024x1024 (RetinaNet152)</td>\n",
              "      <td>111</td>\n",
              "      <td>39.6</td>\n",
              "      <td>Boxes</td>\n",
              "      <td>http://download.tensorflow.org/models/object_d...</td>\n",
              "    </tr>\n",
              "    <tr>\n",
              "      <th>27</th>\n",
              "      <td>Faster R-CNN ResNet50 V1 640x640</td>\n",
              "      <td>53</td>\n",
              "      <td>29.3</td>\n",
              "      <td>Boxes</td>\n",
              "      <td>http://download.tensorflow.org/models/object_d...</td>\n",
              "    </tr>\n",
              "    <tr>\n",
              "      <th>28</th>\n",
              "      <td>Faster R-CNN ResNet50 V1 1024x1024</td>\n",
              "      <td>65</td>\n",
              "      <td>31.0</td>\n",
              "      <td>Boxes</td>\n",
              "      <td>http://download.tensorflow.org/models/object_d...</td>\n",
              "    </tr>\n",
              "    <tr>\n",
              "      <th>29</th>\n",
              "      <td>Faster R-CNN ResNet50 V1 800x1333</td>\n",
              "      <td>65</td>\n",
              "      <td>31.6</td>\n",
              "      <td>Boxes</td>\n",
              "      <td>http://download.tensorflow.org/models/object_d...</td>\n",
              "    </tr>\n",
              "    <tr>\n",
              "      <th>30</th>\n",
              "      <td>Faster R-CNN ResNet101 V1 640x640</td>\n",
              "      <td>55</td>\n",
              "      <td>31.8</td>\n",
              "      <td>Boxes</td>\n",
              "      <td>http://download.tensorflow.org/models/object_d...</td>\n",
              "    </tr>\n",
              "    <tr>\n",
              "      <th>31</th>\n",
              "      <td>Faster R-CNN ResNet101 V1 1024x1024</td>\n",
              "      <td>72</td>\n",
              "      <td>37.1</td>\n",
              "      <td>Boxes</td>\n",
              "      <td>http://download.tensorflow.org/models/object_d...</td>\n",
              "    </tr>\n",
              "    <tr>\n",
              "      <th>32</th>\n",
              "      <td>Faster R-CNN ResNet101 V1 800x1333</td>\n",
              "      <td>77</td>\n",
              "      <td>36.6</td>\n",
              "      <td>Boxes</td>\n",
              "      <td>http://download.tensorflow.org/models/object_d...</td>\n",
              "    </tr>\n",
              "    <tr>\n",
              "      <th>33</th>\n",
              "      <td>Faster R-CNN ResNet152 V1 640x640</td>\n",
              "      <td>64</td>\n",
              "      <td>32.4</td>\n",
              "      <td>Boxes</td>\n",
              "      <td>http://download.tensorflow.org/models/object_d...</td>\n",
              "    </tr>\n",
              "    <tr>\n",
              "      <th>34</th>\n",
              "      <td>Faster R-CNN ResNet152 V1 1024x1024</td>\n",
              "      <td>85</td>\n",
              "      <td>37.6</td>\n",
              "      <td>Boxes</td>\n",
              "      <td>http://download.tensorflow.org/models/object_d...</td>\n",
              "    </tr>\n",
              "    <tr>\n",
              "      <th>35</th>\n",
              "      <td>Faster R-CNN ResNet152 V1 800x1333</td>\n",
              "      <td>101</td>\n",
              "      <td>37.4</td>\n",
              "      <td>Boxes</td>\n",
              "      <td>http://download.tensorflow.org/models/object_d...</td>\n",
              "    </tr>\n",
              "    <tr>\n",
              "      <th>36</th>\n",
              "      <td>Faster R-CNN Inception ResNet V2 640x640</td>\n",
              "      <td>206</td>\n",
              "      <td>37.7</td>\n",
              "      <td>Boxes</td>\n",
              "      <td>http://download.tensorflow.org/models/object_d...</td>\n",
              "    </tr>\n",
              "    <tr>\n",
              "      <th>37</th>\n",
              "      <td>Faster R-CNN Inception ResNet V2 1024x1024</td>\n",
              "      <td>236</td>\n",
              "      <td>38.7</td>\n",
              "      <td>Boxes</td>\n",
              "      <td>http://download.tensorflow.org/models/object_d...</td>\n",
              "    </tr>\n",
              "    <tr>\n",
              "      <th>38</th>\n",
              "      <td>Mask R-CNN Inception ResNet V2 1024x1024</td>\n",
              "      <td>301</td>\n",
              "      <td>39.0/34.6</td>\n",
              "      <td>Boxes/Masks</td>\n",
              "      <td>http://download.tensorflow.org/models/object_d...</td>\n",
              "    </tr>\n",
              "    <tr>\n",
              "      <th>39</th>\n",
              "      <td>ExtremeNet</td>\n",
              "      <td>--</td>\n",
              "      <td>--</td>\n",
              "      <td>Boxes</td>\n",
              "      <td>http://download.tensorflow.org/models/object_d...</td>\n",
              "    </tr>\n",
              "  </tbody>\n",
              "</table>\n",
              "</div>"
            ],
            "text/plain": [
              "                                       Model name  ...                                               href\n",
              "0                  CenterNet HourGlass104 512x512  ...  http://download.tensorflow.org/models/object_d...\n",
              "1        CenterNet HourGlass104 Keypoints 512x512  ...  http://download.tensorflow.org/models/object_d...\n",
              "2                CenterNet HourGlass104 1024x1024  ...  http://download.tensorflow.org/models/object_d...\n",
              "3      CenterNet HourGlass104 Keypoints 1024x1024  ...  http://download.tensorflow.org/models/object_d...\n",
              "4               CenterNet Resnet50 V1 FPN 512x512  ...  http://download.tensorflow.org/models/object_d...\n",
              "5     CenterNet Resnet50 V1 FPN Keypoints 512x512  ...  http://download.tensorflow.org/models/object_d...\n",
              "6              CenterNet Resnet101 V1 FPN 512x512  ...  http://download.tensorflow.org/models/object_d...\n",
              "7                   CenterNet Resnet50 V2 512x512  ...  http://download.tensorflow.org/models/object_d...\n",
              "8         CenterNet Resnet50 V2 Keypoints 512x512  ...  http://download.tensorflow.org/models/object_d...\n",
              "9                         EfficientDet D0 512x512  ...  http://download.tensorflow.org/models/object_d...\n",
              "10                        EfficientDet D1 640x640  ...  http://download.tensorflow.org/models/object_d...\n",
              "11                        EfficientDet D2 768x768  ...  http://download.tensorflow.org/models/object_d...\n",
              "12                        EfficientDet D3 896x896  ...  http://download.tensorflow.org/models/object_d...\n",
              "13                      EfficientDet D4 1024x1024  ...  http://download.tensorflow.org/models/object_d...\n",
              "14                      EfficientDet D5 1280x1280  ...  http://download.tensorflow.org/models/object_d...\n",
              "15                      EfficientDet D6 1280x1280  ...  http://download.tensorflow.org/models/object_d...\n",
              "16                      EfficientDet D7 1536x1536  ...  http://download.tensorflow.org/models/object_d...\n",
              "17                       SSD MobileNet v2 320x320  ...  http://download.tensorflow.org/models/object_d...\n",
              "18                   SSD MobileNet V1 FPN 640x640  ...  http://download.tensorflow.org/models/object_d...\n",
              "19               SSD MobileNet V2 FPNLite 320x320  ...  http://download.tensorflow.org/models/object_d...\n",
              "20               SSD MobileNet V2 FPNLite 640x640  ...  http://download.tensorflow.org/models/object_d...\n",
              "21      SSD ResNet50 V1 FPN 640x640 (RetinaNet50)  ...  http://download.tensorflow.org/models/object_d...\n",
              "22    SSD ResNet50 V1 FPN 1024x1024 (RetinaNet50)  ...  http://download.tensorflow.org/models/object_d...\n",
              "23    SSD ResNet101 V1 FPN 640x640 (RetinaNet101)  ...  http://download.tensorflow.org/models/object_d...\n",
              "24  SSD ResNet101 V1 FPN 1024x1024 (RetinaNet101)  ...  http://download.tensorflow.org/models/object_d...\n",
              "25    SSD ResNet152 V1 FPN 640x640 (RetinaNet152)  ...  http://download.tensorflow.org/models/object_d...\n",
              "26  SSD ResNet152 V1 FPN 1024x1024 (RetinaNet152)  ...  http://download.tensorflow.org/models/object_d...\n",
              "27               Faster R-CNN ResNet50 V1 640x640  ...  http://download.tensorflow.org/models/object_d...\n",
              "28             Faster R-CNN ResNet50 V1 1024x1024  ...  http://download.tensorflow.org/models/object_d...\n",
              "29              Faster R-CNN ResNet50 V1 800x1333  ...  http://download.tensorflow.org/models/object_d...\n",
              "30              Faster R-CNN ResNet101 V1 640x640  ...  http://download.tensorflow.org/models/object_d...\n",
              "31            Faster R-CNN ResNet101 V1 1024x1024  ...  http://download.tensorflow.org/models/object_d...\n",
              "32             Faster R-CNN ResNet101 V1 800x1333  ...  http://download.tensorflow.org/models/object_d...\n",
              "33              Faster R-CNN ResNet152 V1 640x640  ...  http://download.tensorflow.org/models/object_d...\n",
              "34            Faster R-CNN ResNet152 V1 1024x1024  ...  http://download.tensorflow.org/models/object_d...\n",
              "35             Faster R-CNN ResNet152 V1 800x1333  ...  http://download.tensorflow.org/models/object_d...\n",
              "36       Faster R-CNN Inception ResNet V2 640x640  ...  http://download.tensorflow.org/models/object_d...\n",
              "37     Faster R-CNN Inception ResNet V2 1024x1024  ...  http://download.tensorflow.org/models/object_d...\n",
              "38       Mask R-CNN Inception ResNet V2 1024x1024  ...  http://download.tensorflow.org/models/object_d...\n",
              "39                                     ExtremeNet  ...  http://download.tensorflow.org/models/object_d...\n",
              "\n",
              "[40 rows x 5 columns]"
            ]
          },
          "metadata": {
            "tags": []
          },
          "execution_count": 5
        }
      ]
    },
    {
      "cell_type": "code",
      "metadata": {
        "id": "Pi6HZbnB8w3m"
      },
      "source": [
        "PROJECT_ID = \"Hidden due to privacy reasons!\"\n",
        "LABEL_MAP_PATH = \"/content/labelmap.pbtxt\"\n",
        "TFRECORDS_PATTERNS = [\n",
        "        f'gs://{PROJECT_ID}/.../size512x512/*.tfrec',\n",
        "]\n",
        "TEST_PATTERN = f'gs://{PROJECT_ID}/.../size512x512/*.tfrec'\n",
        "TRAINING_DIR = \"training\"\n",
        "MODEL_ID = 9\n",
        "NUM_STEPS = 1000\n",
        "WARMUP_PERCENTAGE = 0.1"
      ],
      "execution_count": null,
      "outputs": []
    },
    {
      "cell_type": "code",
      "metadata": {
        "id": "3tS8u9X6gddd"
      },
      "source": [
        "!mkdir $TRAINING_DIR"
      ],
      "execution_count": null,
      "outputs": []
    },
    {
      "cell_type": "code",
      "metadata": {
        "id": "NCUcPY9bqvh5",
        "colab": {
          "base_uri": "https://localhost:8080/",
          "height": 71
        },
        "cellView": "form",
        "outputId": "ca3b5ce2-59ae-4432-efd9-f0a8a1c18fd0"
      },
      "source": [
        "#@title Download and extract model\n",
        "def download_model(model_id):\n",
        "  model_url = str(zoo_df.href[model_id])\n",
        "  model_name = os.path.basename(model_url).replace(\".tar.gz\", \"\")\n",
        "  model_dir = tf.keras.utils.get_file(fname=model_name,\n",
        "                                      cache_subdir=\"/content\",\n",
        "                                      origin=model_url,\n",
        "                                      untar=True)\n",
        "  return str(model_dir)\n",
        "\n",
        "path_to_model_dir = download_model(MODEL_ID)\n",
        "path_to_model_dir"
      ],
      "execution_count": null,
      "outputs": [
        {
          "output_type": "stream",
          "text": [
            "Downloading data from http://download.tensorflow.org/models/object_detection/tf2/20200711/efficientdet_d0_coco17_tpu-32.tar.gz\n",
            "30744576/30736482 [==============================] - 0s 0us/step\n"
          ],
          "name": "stdout"
        },
        {
          "output_type": "execute_result",
          "data": {
            "application/vnd.google.colaboratory.intrinsic+json": {
              "type": "string"
            },
            "text/plain": [
              "'/content/efficientdet_d0_coco17_tpu-32'"
            ]
          },
          "metadata": {
            "tags": []
          },
          "execution_count": 8
        }
      ]
    },
    {
      "cell_type": "code",
      "metadata": {
        "id": "JCJm_UF1esaZ"
      },
      "source": [
        "example_pipeline_config = '/content/models/research/object_detection/configs/tf2/ssd_efficientdet_d0_512x512_coco17_tpu-8.config'\n",
        "checkpoint_path = path_to_model_dir + '/checkpoint/ckpt-0'\n",
        "pipeline_config_save_path = f\"/content/{TRAINING_DIR}\""
      ],
      "execution_count": null,
      "outputs": []
    },
    {
      "cell_type": "code",
      "metadata": {
        "id": "6OE8k43AHopy"
      },
      "source": [
        "category_index = {\n",
        "    1: {'id': 13, 'name': 'Optic Disc'}\n",
        "}"
      ],
      "execution_count": null,
      "outputs": []
    },
    {
      "cell_type": "code",
      "metadata": {
        "id": "1YSBO_5-J-Z5"
      },
      "source": [
        "label_map_string = \"\"\n",
        "nl = '\\n'\n",
        "for item in category_index.values():\n",
        "  label_map_string += \"item {\\n    id: %s\\n    name: '%s'\\n}\\n\" % (item['id'], item['name'])\n",
        "with open(LABEL_MAP_PATH, mode='w') as f:\n",
        "  f.write(label_map_string)"
      ],
      "execution_count": null,
      "outputs": []
    },
    {
      "cell_type": "code",
      "metadata": {
        "id": "yF-pqxGhfotc"
      },
      "source": [
        "configs = config_util.get_configs_from_pipeline_file(example_pipeline_config)\n",
        "\n",
        "model_config = configs['model']\n",
        "model_config.ssd.freeze_batchnorm = False\n",
        "model_config.ssd.num_classes = len(category_index)\n",
        "model_config.ssd.anchor_generator.multiscale_anchor_generator.anchor_scale = 3.0\n",
        "\n",
        "train_config = configs['train_config']\n",
        "train_config.fine_tune_checkpoint = checkpoint_path\n",
        "train_config.fine_tune_checkpoint_type = \"detection\" #classification if only train backbone\n",
        "train_config.batch_size = 8\n",
        "train_config.use_bfloat16 = False # Set this to false if you are not training on a TPU\n",
        "train_config.num_steps = NUM_STEPS\n",
        "\n",
        "train_config.data_augmentation_options[1].random_scale_crop_and_pad_to_square.scale_min = .9\n",
        "train_config.data_augmentation_options[1].random_scale_crop_and_pad_to_square.scale_max = 1.2\n",
        "\n",
        "train_config.optimizer.momentum_optimizer.learning_rate.cosine_decay_learning_rate.learning_rate_base= 8e-2\n",
        "train_config.optimizer.momentum_optimizer.learning_rate.cosine_decay_learning_rate.total_steps = NUM_STEPS\n",
        "train_config.optimizer.momentum_optimizer.learning_rate.cosine_decay_learning_rate.warmup_learning_rate= .001\n",
        "train_config.optimizer.momentum_optimizer.learning_rate.cosine_decay_learning_rate.warmup_steps = int(NUM_STEPS * WARMUP_PERCENTAGE)\n",
        "train_config.optimizer.momentum_optimizer.momentum_optimizer_value = 0.9\n",
        "train_config.optimizer.use_moving_average = False\n",
        "\n",
        "train_input_reader = configs['train_input_config']\n",
        "train_input_reader.label_map_path = LABEL_MAP_PATH\n",
        "train_input_reader.tf_record_input_reader.input_path[:] = TFRECORDS_PATTERNS\n",
        "\n",
        "eval_input_reader = configs['eval_input_config']\n",
        "eval_input_reader.label_map_path = LABEL_MAP_PATH\n",
        "eval_input_reader.tf_record_input_reader.input_path[0] = TEST_PATTERN\n",
        "\n",
        "# detection_model = model_builder.build(\n",
        "#       model_config=model_config, is_training=True)"
      ],
      "execution_count": null,
      "outputs": []
    },
    {
      "cell_type": "code",
      "metadata": {
        "id": "TGjjP0ehbR9J"
      },
      "source": [
        "detection_model_brl = model_builder.build(\n",
        "      model_config=model_config, is_training=True)"
      ],
      "execution_count": null,
      "outputs": []
    },
    {
      "cell_type": "code",
      "metadata": {
        "id": "UcqKMVx6djhX"
      },
      "source": [
        "pipeline_proto = config_util.create_pipeline_proto_from_configs(configs)\n",
        "config_util.save_pipeline_config(pipeline_proto, pipeline_config_save_path)"
      ],
      "execution_count": null,
      "outputs": []
    },
    {
      "cell_type": "code",
      "metadata": {
        "id": "1ArAH5jIhKbq"
      },
      "source": [
        "new_pipeline_config_path = os.path.join(pipeline_config_save_path, \"pipeline.config\")"
      ],
      "execution_count": null,
      "outputs": []
    },
    {
      "cell_type": "code",
      "metadata": {
        "id": "_rX82wNngnnu",
        "colab": {
          "base_uri": "https://localhost:8080/",
          "height": 36
        },
        "outputId": "3b6a37c7-2d38-4ac9-bf73-543c483ade2c"
      },
      "source": [
        "new_pipeline_config_path"
      ],
      "execution_count": null,
      "outputs": [
        {
          "output_type": "execute_result",
          "data": {
            "application/vnd.google.colaboratory.intrinsic+json": {
              "type": "string"
            },
            "text/plain": [
              "'/content/training/pipeline.config'"
            ]
          },
          "metadata": {
            "tags": []
          },
          "execution_count": 16
        }
      ]
    },
    {
      "cell_type": "code",
      "metadata": {
        "id": "FzCC4-f_f66A"
      },
      "source": [
        "%%capture\n",
        "!python /content/models/research/object_detection/model_main_tf2.py \\\n",
        "    --model_dir=$pipeline_config_save_path \\\n",
        "    --pipeline_config_path=$new_pipeline_config_path \\\n",
        "    --record_summaries={False}"
      ],
      "execution_count": null,
      "outputs": []
    },
    {
      "cell_type": "code",
      "metadata": {
        "id": "0aTk0gQUJKSF"
      },
      "source": [
        "!python /content/models/research/object_detection/exporter_main_v2.py \\ \n",
        "        --input_type=image_tensor \\\n",
        "        --pipeline_config_path=/content/training/pipeline.config \\\n",
        "        --trained_checkpoint_dir=/content/training \\\n",
        "        --output_directory=/content/inference_graph"
      ],
      "execution_count": null,
      "outputs": []
    },
    {
      "cell_type": "code",
      "metadata": {
        "id": "OhOSItI9MNwO"
      },
      "source": [
        "cloud_path f\"gs://{PROJECT_ID}/effdet0-odf-train/inference_graph\"\n",
        "!gsutil -m cp -r /content/inference_graph/ $cloud_path"
      ],
      "execution_count": null,
      "outputs": []
    }
  ]
}