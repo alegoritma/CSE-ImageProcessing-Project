{
  "nbformat": 4,
  "nbformat_minor": 0,
  "metadata": {
    "colab": {
      "name": "RIGA Mask Creator.ipynb",
      "provenance": [],
      "collapsed_sections": [],
      "toc_visible": true
    },
    "kernelspec": {
      "name": "python3",
      "display_name": "Python 3"
    }
  },
  "cells": [
    {
      "cell_type": "markdown",
      "metadata": {
        "id": "MkSriIr3hgPb"
      },
      "source": [
        "# Extracting Masks of RIGA Dataset images for Segmentation Trainings\r\n",
        "Some information is hidden (changed to [...]) for privacy reasons."
      ]
    },
    {
      "cell_type": "code",
      "metadata": {
        "id": "LtelkihBZ3CU"
      },
      "source": [
        "from PIL import Image, ImageChops\n",
        "import numpy as np\n",
        "import os\n",
        "from tqdm import tqdm\n",
        "import matplotlib.pyplot as plt\n",
        "from skimage.morphology import remove_small_objects\n",
        "from skimage.segmentation import flood, flood_fill\n",
        "from math import sqrt\n",
        "import seaborn as sns"
      ],
      "execution_count": null,
      "outputs": []
    },
    {
      "cell_type": "code",
      "metadata": {
        "id": "UtCUndCgMnCU"
      },
      "source": [
        "!sudo apt install unzip"
      ],
      "execution_count": null,
      "outputs": []
    },
    {
      "cell_type": "code",
      "metadata": {
        "id": "_v9IcPfuJfBy"
      },
      "source": [
        "import sys\n",
        "if 'google.colab' in sys.modules:\n",
        "    from google.colab import auth\n",
        "    auth.authenticate_user()"
      ],
      "execution_count": null,
      "outputs": []
    },
    {
      "cell_type": "code",
      "metadata": {
        "id": "RVW-SdMnbmRh"
      },
      "source": [
        "# !mkdir RIGA\n",
        "# !gsutil -m cp -r \"gs://[...]/cup-to-disc/datasets/RIGA/RIGA-dataset\" RIGA"
      ],
      "execution_count": null,
      "outputs": []
    },
    {
      "cell_type": "code",
      "metadata": {
        "id": "6ipNq3CYTzci"
      },
      "source": [
        "!gsutil -m cp -r \"gs://[...]/cup-to-disc/datasets_with_masks/RIGA_with_mask\" \"./\""
      ],
      "execution_count": null,
      "outputs": []
    },
    {
      "cell_type": "markdown",
      "metadata": {
        "id": "T2e5mhyHfgK2"
      },
      "source": [
        "####Process Functions"
      ]
    },
    {
      "cell_type": "code",
      "metadata": {
        "id": "e7yM-EFypP-0"
      },
      "source": [
        "\"\"\"\n",
        "Steps:\n",
        "0. Copy original numpy matrix to [circles]  \n",
        "1. Find outer circle's one pixel (must be at top)\n",
        "    1.1. Find first black pixel inside of outer circle (in [circles])\n",
        "    1.2. Flood Fill the area between outer and inner circles (fill [disc_minus_cup])\n",
        "2. Delete outer circle (in [circles])\n",
        "3. Find inner circle's one pixel (must be at top)\n",
        "    3.1 Do the same thing in 1.x steps [inside_cup]\n",
        "4. Sum [inside_cup] and [circles] (dont forget [circles] matrix doesn't have disc line anymore)\n",
        "    4.1 [cup] = [inside_cup] + [circles]\n",
        "5. Sum [inside_cup], [disc_minus_cup] and [annots]\n",
        "    5.1 [disc] = [inside_cup] + [disc_minus_cup] + [annots]\n",
        "\"\"\"\n",
        "\n",
        "\n",
        "#Find disc\n",
        "def find_circle_pixel(img_arr):\n",
        "    for y in range(img_arr.shape[0]):\n",
        "        for x in range(img_arr.shape[1]):\n",
        "            if (img_arr[y][x]): return y, x\n",
        "\n",
        "def find_circle_pixel_inside(img_arr, circle_pixel):\n",
        "    y, x = circle_pixel\n",
        "    yd = y; xd = x\n",
        "    while (img_arr[yd][xd] != 0): yd+=1\n",
        "    return yd, xd\n",
        "\n",
        "def fill_circle(arr, start):\n",
        "    y, x = start\n",
        "    position = [y, x]\n",
        "    \n",
        "    to_fill = []\n",
        "\n",
        "    going_right = True\n",
        "    direction_changed = False\n",
        "    done = False\n",
        "    while not done:\n",
        "        y, x = position\n",
        "        arr[y-quarter_frame:y+quarter_frame,x-quarter_frame:x+quarter_frame] = True\n",
        "        try:\n",
        "            test_arr[position[0],position[1]] = 255\n",
        "        except:\n",
        "            pass\n",
        "        if (going_right):\n",
        "            if not np.all(arr[y-half_frame:y+half_frame,x:x+side_frame]):       #right\n",
        "                position = (y, x+quarter_frame)\n",
        "                direction_changed = False\n",
        "            elif not np.all(arr[y:y+corner_frame, x:x+corner_frame]):           #botom_right\n",
        "                position = (y+quarter_frame, x+quarter_frame)\n",
        "                direction_changed = False\n",
        "                \"going_right = False ?\"\n",
        "            elif not np.all(arr[y:y+side_frame, x-half_frame:x+half_frame]):    #bottom\n",
        "                position = (y+quarter_frame, x)\n",
        "                direction_changed = False\n",
        "                \"going_right = False ?\"\n",
        "            else: going_right = False; \n",
        "\n",
        "            if (direction_changed and not going_right): done = True\n",
        "            if (not going_right): direction_changed = True\n",
        "            \n",
        "            \n",
        "        else:\n",
        "            if not np.all(arr[y-half_frame:y+half_frame,x-side_frame:x]):       #left\n",
        "                position = (y, x-quarter_frame)\n",
        "                direction_changed = False\n",
        "            elif not np.all(arr[y:y+corner_frame,x-corner_frame:x]):            #bottom_left\n",
        "                position = (y+quarter_frame, x-quarter_frame)\n",
        "                direction_changed = False\n",
        "                \"going_right = True ?\"\n",
        "            elif not np.all(arr[y:y+side_frame, x-half_frame:x+half_frame]):    #bottom\n",
        "                position = (y+quarter_frame, x)\n",
        "                direction_changed = False\n",
        "                \"going_right = True ?\"\n",
        "            else: going_right = True\n",
        "\n",
        "            if (direction_changed and going_right): done = True\n",
        "            if (going_right): direction_changed = True\n",
        "\n",
        "        \n",
        "\n",
        "def erase_circle(arr, start, frame_size = 16):\n",
        "    y, x = start\n",
        "    position = [y, x]\n",
        "    half_frame = frame_size//2+2\n",
        "    quarter_frame = half_frame//2\n",
        "    side_frame = frame_size\n",
        "    corner_frame = half_frame+quarter_frame\n",
        "    while True:\n",
        "        next = None\n",
        "        y, x = position\n",
        "        arr[y-half_frame-1:y+half_frame+1,x-half_frame-1:x+half_frame+1] = 0\n",
        "\n",
        "       \n",
        "        if np.any(arr[y-corner_frame:y,x-corner_frame:x]):                      #top_left\n",
        "            position = (y-quarter_frame, x-quarter_frame)\n",
        "        elif np.any(arr[y:y+corner_frame, x:x+corner_frame]):                   #botom_right\n",
        "            position = (y+quarter_frame, x+quarter_frame)\n",
        "        elif np.any(arr[y-corner_frame:y,x:x+corner_frame]):                    #top_right\n",
        "            position = (y-quarter_frame, x+quarter_frame)\n",
        "        elif np.any(arr[y:y+corner_frame,x-corner_frame:x]):                    #bottom_left\n",
        "            position = (y+quarter_frame, x-quarter_frame)\n",
        "        elif np.any(arr[y-half_frame:y+half_frame,x-side_frame:x]):             #left\n",
        "            position = (y, x-quarter_frame)\n",
        "        elif np.any(arr[y-half_frame:y+half_frame,x:x+side_frame]):             #right\n",
        "            position = (y, x+quarter_frame)\n",
        "        elif np.any(arr[y-side_frame:y,x-half_frame:x+half_frame]):             #top\n",
        "            position = (y-quarter_frame, x)\n",
        "        elif np.any(arr[y:y+side_frame, x-half_frame:x+half_frame]):            #bottom\n",
        "            position = (y+quarter_frame, x)\n",
        "        else: break\n",
        "        \n"
      ],
      "execution_count": null,
      "outputs": []
    },
    {
      "cell_type": "code",
      "metadata": {
        "id": "mm9X06j0eGDC"
      },
      "source": [
        "files_with_errors = []"
      ],
      "execution_count": null,
      "outputs": []
    },
    {
      "cell_type": "code",
      "metadata": {
        "id": "WD33LPjYf0iK"
      },
      "source": [
        "!mkdir RIGA_with_mask"
      ],
      "execution_count": null,
      "outputs": []
    },
    {
      "cell_type": "markdown",
      "metadata": {
        "id": "hijfXAovMNe_"
      },
      "source": [
        "###1. RIGA \n",
        "\n",
        "---\n",
        "\n"
      ]
    },
    {
      "cell_type": "markdown",
      "metadata": {
        "id": "XMp7UcbkMS0I"
      },
      "source": [
        "#### BinRushed"
      ]
    },
    {
      "cell_type": "code",
      "metadata": {
        "id": "jSpi5YF6MNAO"
      },
      "source": [
        "%%capture\n",
        "!unzip RIGA/RIGA-dataset/BinRushedcorrected.zip -d BinRushed"
      ],
      "execution_count": null,
      "outputs": []
    },
    {
      "cell_type": "code",
      "metadata": {
        "id": "igH3djYOOtUe"
      },
      "source": [
        "def get_prime_and_mask_alternative(im_prime, im_annoted, threshold=100):\n",
        "    diff_np = np.array(ImageChops.difference(im_prime, im_annoted))\n",
        "    diff_np[diff_np > 250] = 0\n",
        "    diff_np = np.sum(diff_np, axis=2)\n",
        "    annots = remove_small_objects(diff_np>threshold).astype('uint8')*255\n",
        "\n",
        "\n",
        "    outer_circle_pixel_start = find_circle_pixel(annots)\n",
        "\n",
        "    inner_circle = annots.copy()\n",
        "\n",
        "    erase_circle(inner_circle, outer_circle_pixel_start)\n",
        "\n",
        "    inner_circle_pixel_start = find_circle_pixel(inner_circle)\n",
        "\n",
        "    outer_circle = annots.copy()\n",
        "    erase_circle(outer_circle, inner_circle_pixel_start)\n",
        "\n",
        "    outer_circle_pixel_inside_start = find_circle_pixel_inside(outer_circle, outer_circle_pixel_start)\n",
        "    inner_circle_pixel_inside_start = find_circle_pixel_inside(inner_circle, inner_circle_pixel_start)\n",
        "\n",
        "    disc = flood_fill(outer_circle, outer_circle_pixel_inside_start, 255)\n",
        "    cup = flood_fill(inner_circle, inner_circle_pixel_inside_start, 255)\n",
        "\n",
        "    return disc, cup\n",
        "\n",
        "def get_prime_and_mask(im_prime, im_annoted, threshold=100):\n",
        "    diff_np = np.array(ImageChops.difference(im_prime, im_annoted))\n",
        "    diff_np[diff_np > 250] = 0\n",
        "    diff_np = np.sum(diff_np, axis=2)\n",
        "    annots = remove_small_objects(diff_np>threshold).astype('uint8')*255\n",
        "\n",
        "    outer_circle_pixel_start = find_circle_pixel(annots)\n",
        "    inner_circle = flood_fill(annots, outer_circle_pixel_start, 0)\n",
        "\n",
        "    inner_circle_pixel_start = find_circle_pixel(inner_circle)\n",
        "    outer_circle = flood_fill(annots, inner_circle_pixel_start, 0)\n",
        "\n",
        "    outer_circle_pixel_inside_start = find_circle_pixel_inside(outer_circle, outer_circle_pixel_start)\n",
        "    inner_circle_pixel_inside_start = find_circle_pixel_inside(inner_circle, inner_circle_pixel_start)\n",
        "\n",
        "    disc = flood_fill(outer_circle, outer_circle_pixel_inside_start, 255)\n",
        "    cup = flood_fill(inner_circle, inner_circle_pixel_inside_start, 255)\n",
        "    \n",
        "    return disc, cup"
      ],
      "execution_count": null,
      "outputs": []
    },
    {
      "cell_type": "code",
      "metadata": {
        "id": "QP1dGmBOj0s6"
      },
      "source": [
        "thresholds = [120, 100, 80, 70, 60, 50, 40, 30, 20, 10, 5]\n"
      ],
      "execution_count": null,
      "outputs": []
    },
    {
      "cell_type": "code",
      "metadata": {
        "id": "TMbW60KHf5JS"
      },
      "source": [
        "binrushed_dir_names = ['BinRushed1-Corrected', 'BinRushed2', 'BinRushed3', 'BinRushed4']\n",
        "for binrushed_dir in binrushed_dir_names: \n",
        "    to_create = f\"RIGA_with_mask/{binrushed_dir}\"\n",
        "    !mkdir $to_create"
      ],
      "execution_count": null,
      "outputs": []
    },
    {
      "cell_type": "code",
      "metadata": {
        "id": "2sYX9tsjNQ_A"
      },
      "source": [
        "for binrushed_dir in tqdm(binrushed_dir_names):\n",
        "    path = f\"BinRushed/BinRushed/{binrushed_dir}\"\n",
        "    br_images = [_ for _ in os.listdir(f\"BinRushed/BinRushed/{binrushed_dir}\")]\n",
        "    annot_images_filenames = [_ for _ in br_images if _.find(\"prime\") == -1]\n",
        "    n = max([int(_.split(\"prime\")[0].replace(\"image\", \"\")) for _ in br_images if _.find(\"prime\") != -1])+1\n",
        "    for i in tqdm(range(1, n)):\n",
        "        fp = f\"RIGA_with_mask/{binrushed_dir}/image{i}prime.bmp\"\n",
        "\n",
        "        im_prime_filename = f\"image{i}prime.jpg\"\n",
        "        im_prime_path = f\"{path}/{im_prime_filename}\"\n",
        "        im_prime = None\n",
        "        \n",
        "        # im_prime.save(fp, quality=100)\n",
        "        \n",
        "        for j in range(1, 7):\n",
        "            if f\"RIGA_with_mask/{binrushed_dir}/image{i}-{j}\" not in exceptional_ratios: continue\n",
        "\n",
        "            im_annot_path = f\"image{i}-{j}\"\n",
        "            \n",
        "            if (im_prime == None): im_prime = Image.open(im_prime_path)\n",
        "\n",
        "            try:\n",
        "                im_annot = Image.open(f\"{path}/{im_annot_path}.jpg\")\n",
        "            except FileNotFoundError:\n",
        "                im_annot = Image.open(f\"{path}/{im_annot_path}.tif\")\n",
        "            \n",
        "            try:\n",
        "                ratio_valid = False\n",
        "                for threshold in thresholds:\n",
        "                    disc, cup = get_prime_and_mask(im_prime, im_annot, threshold=threshold)\n",
        "                    total_pixels = cup.shape[0]*cup.shape[1]\n",
        "                    cup_pixels = np.sum(cup == 255)\n",
        "                    disc_pixels = np.sum(disc == 255)\n",
        "\n",
        "                    ratio = sqrt(cup_pixels/disc_pixels)\n",
        "                    ratio_valid = ((ratio > 0.1) and (ratio < 0.9))\n",
        "\n",
        "\n",
        "                    ratio_valid = ratio_valid and (cup_pixels/total_pixels <= 0.8) \n",
        "                    ratio_valid = ratio_valid and (disc_pixels/total_pixels <= 0.8)\n",
        "                    \n",
        "                    if ratio_valid: break\n",
        "\n",
        "                if (not ratio_valid):\n",
        "                    for threshold in thresholds:\n",
        "                        disc, cup = get_prime_and_mask_alternative(im_prime, im_annot, threshold=threshold)\n",
        "                        \n",
        "                        total_pixels = cup.shape[0]*cup.shape[1]\n",
        "                        cup_pixels = np.sum(cup == 255)\n",
        "                        disc_pixels = np.sum(disc == 255)\n",
        "\n",
        "                        ratio = sqrt(cup_pixels/disc_pixels)\n",
        "                        ratio_valid = ((ratio > 0.1) and (ratio < 0.9))\n",
        "\n",
        "\n",
        "                        ratio_valid = ratio_valid and (cup_pixels/total_pixels <= 0.8) \n",
        "                        ratio_valid = ratio_valid and (disc_pixels/total_pixels <= 0.8)\n",
        "\n",
        "                        if ratio_valid: break\n",
        "\n",
        "                if (not ratio_valid):\n",
        "                    print(f\"Error while parsing (ratio={ratio}): {path}/{im_annot_path}\")\n",
        "                    files_with_errors.append(f\"Ratio error (ratio={ratio}): {path}/{im_annot_path}\")\n",
        "                    continue #to next annotation\n",
        "            \n",
        "            except TypeError:\n",
        "                print(f\"Line collision: {path}/{im_annot_path}\")\n",
        "                files_with_errors.append(f\"Line collision: {path}/{im_annot_path}\")\n",
        "                continue #to next annotation\n",
        "\n",
        "            im_disc = Image.fromarray(disc)\n",
        "            im_cup = Image.fromarray(cup)\n",
        "\n",
        "            fp = f\"RIGA_with_mask/{binrushed_dir}/image{i}-{j}_disc.bmp\"\n",
        "            im_disc.save(fp, quality=100)\n",
        "\n",
        "            fp = f\"RIGA_with_mask/{binrushed_dir}/image{i}-{j}_cup.bmp\"\n",
        "            im_cup.save(fp, quality=100)"
      ],
      "execution_count": null,
      "outputs": []
    },
    {
      "cell_type": "code",
      "metadata": {
        "id": "2hVDLyfrK6Zv"
      },
      "source": [
        "\"\"\"Send All BinRushed to storage\"\"\"\n",
        "for binrushed_dir in binrushed_dir_names:\n",
        "    sub_dir = f\"RIGA_with_mask/{binrushed_dir}\"\n",
        "    !gsutil -m cp -r $sub_dir \"gs://[...]/cup-to-disc/datasets_with_masks/RIGA_with_mask\""
      ],
      "execution_count": null,
      "outputs": []
    },
    {
      "cell_type": "code",
      "metadata": {
        "id": "pK-RVC_z3vsv"
      },
      "source": [
        "!rm -r BinRushed\n",
        "# !rm RIGA/RIGA-dataset/BinRushed.zip"
      ],
      "execution_count": null,
      "outputs": []
    },
    {
      "cell_type": "markdown",
      "metadata": {
        "id": "MUuu5AXolxAn"
      },
      "source": [
        "####Messidor\n"
      ]
    },
    {
      "cell_type": "code",
      "metadata": {
        "id": "mdEpw6t_ly6q"
      },
      "source": [
        "%%capture\n",
        "!unzip RIGA/RIGA-dataset/MESSIDOR.zip -d Messidor"
      ],
      "execution_count": null,
      "outputs": []
    },
    {
      "cell_type": "code",
      "metadata": {
        "id": "3QC3U20ksHdv"
      },
      "source": [
        "# binrushed_dir_names = ['MESSIDOR']\n",
        "# for binrushed_dir in binrushed_dir_names:\n",
        "#     to_create = f\"RIGA_with_mask/{binrushed_dir}\"\n",
        "#     !mkdir $to_create"
      ],
      "execution_count": null,
      "outputs": []
    },
    {
      "cell_type": "code",
      "metadata": {
        "id": "Cu7rwvHQtGms"
      },
      "source": [
        "messidor_dir = \"MESSIDOR\"\n",
        "path = f\"Messidor/{messidor_dir}\"\n",
        "br_images = [_ for _ in os.listdir(path)]\n",
        "annot_images_filenames = [_ for _ in br_images if _.find(\"prime\") == -1]\n",
        "n = max([int(_.split(\"prime\")[0].replace(\"image\", \"\")) for _ in br_images if _.find(\"prime\") != -1])+1\n",
        "print(\"total images:\", n)\n",
        "for i in tqdm(range(1, n)):\n",
        "    fp = f\"RIGA_with_mask/{messidor_dir}/image{i}prime.bmp\"\n",
        "\n",
        "    im_prime_filename = f\"image{i}prime.tif\"\n",
        "    im_prime_path = f\"{path}/{im_prime_filename}\"\n",
        "    im_prime = None\n",
        "    \n",
        "    # im_prime.save(fp, quality=100)\n",
        "\n",
        "    # continue\n",
        "    for j in range(1, 7):\n",
        "        im_annot_path = f\"image{i}-{j}\"\n",
        "        if f\"RIGA_with_mask/{messidor_dir}/image{i}-{j}\" not in exceptional_ratios: continue\n",
        "        if im_prime == None: im_prime = Image.open(im_prime_path)\n",
        "\n",
        "        try:\n",
        "            im_annot = Image.open(f\"{path}/{im_annot_path}.jpg\")\n",
        "        except FileNotFoundError:\n",
        "            im_annot = Image.open(f\"{path}/{im_annot_path}.tif\")\n",
        "        \n",
        "        try:\n",
        "            ratio_valid = False\n",
        "            for threshold in thresholds:\n",
        "                disc, cup = get_prime_and_mask_alternative(im_prime, im_annot, threshold=threshold)\n",
        "                total_pixels = cup.shape[0]*cup.shape[1]\n",
        "                cup_pixels = np.sum(cup == 255)\n",
        "                disc_pixels = np.sum(disc == 255)\n",
        "\n",
        "                ratio = sqrt(cup_pixels/disc_pixels)\n",
        "                ratio_valid = ((ratio > 0.1) and (ratio < 0.9))\n",
        "\n",
        "\n",
        "                ratio_valid = ratio_valid and (cup_pixels/total_pixels <= 0.8) \n",
        "                ratio_valid = ratio_valid and (disc_pixels/total_pixels <= 0.8)\n",
        "                if ratio_valid: break\n",
        "\n",
        "            if (not ratio_valid):\n",
        "                for threshold in thresholds:\n",
        "                    disc, cup = get_prime_and_mask(im_prime, im_annot, threshold=threshold)\n",
        "                    total_pixels = cup.shape[0]*cup.shape[1]\n",
        "                    cup_pixels = np.sum(cup == 255)\n",
        "                    disc_pixels = np.sum(disc == 255)\n",
        "\n",
        "                    ratio = sqrt(cup_pixels/disc_pixels)\n",
        "                    ratio_valid = ((ratio > 0.1) and (ratio < 0.9))\n",
        "\n",
        "                    ratio_valid = ratio_valid and (cup_pixels/total_pixels <= 0.8) \n",
        "                    ratio_valid = ratio_valid and (disc_pixels/total_pixels <= 0.8)\n",
        "\n",
        "                    if ratio_valid: break\n",
        "\n",
        "            if (not ratio_valid):\n",
        "                print(f\"Error while parsing (ratio={ratio}): {path}/{im_annot_path}\")\n",
        "                files_with_errors.append(f\"Ratio error (ratio={ratio}): {path}/{im_annot_path}\")\n",
        "                continue #to next annotation\n",
        "        \n",
        "        except TypeError:\n",
        "            print(f\"Line collision: {path}/{im_annot_path}\")\n",
        "            files_with_errors.append(f\"Line collision: {path}/{im_annot_path}\")\n",
        "            continue #to next annotation\n",
        "\n",
        "        \n",
        "\n",
        "        im_disc = Image.fromarray(disc)\n",
        "        im_cup = Image.fromarray(cup)\n",
        "\n",
        "        fp = f\"RIGA_with_mask/{messidor_dir}/image{i}-{j}_disc.bmp\"\n",
        "        im_disc.save(fp, quality=100)\n",
        "\n",
        "        fp = f\"RIGA_with_mask/{messidor_dir}/image{i}-{j}_cup.bmp\"\n",
        "        im_cup.save(fp, quality=100)"
      ],
      "execution_count": null,
      "outputs": []
    },
    {
      "cell_type": "code",
      "metadata": {
        "id": "nc1bVbml-Qn4"
      },
      "source": [
        "\"\"\"Send Messidor to storage\"\"\"\n",
        "!gsutil -m cp -r RIGA_with_mask/MESSIDOR gs://[...]/cup-to-disc/datasets_with_masks/RIGA_with_mask"
      ],
      "execution_count": null,
      "outputs": []
    },
    {
      "cell_type": "code",
      "metadata": {
        "id": "G6Of1MM_33XK"
      },
      "source": [
        "!rm -r Messidor\n",
        "!rm RIGA/RIGA-dataset/MESSIDOR.zip"
      ],
      "execution_count": null,
      "outputs": []
    },
    {
      "cell_type": "markdown",
      "metadata": {
        "id": "7ZNsAtcMucli"
      },
      "source": [
        "####Magrabia"
      ]
    },
    {
      "cell_type": "code",
      "metadata": {
        "id": "HOaCmrJXuhg9"
      },
      "source": [
        "%%capture\n",
        "!unzip RIGA/RIGA-dataset/Magrabia.zip -d Magrabia"
      ],
      "execution_count": null,
      "outputs": []
    },
    {
      "cell_type": "code",
      "metadata": {
        "id": "Ld3IymNzuoAC"
      },
      "source": [
        "magrabia_dir_names = ['MagrabiaMale', 'MagrabiaFemale']\n",
        "for magrabia_dir in magrabia_dir_names:\n",
        "    to_create = f\"RIGA_with_mask/{magrabia_dir}\"\n",
        "    !mkdir $to_create"
      ],
      "execution_count": null,
      "outputs": []
    },
    {
      "cell_type": "code",
      "metadata": {
        "id": "MUoH8K-zuwL4"
      },
      "source": [
        "for magrabia_dir in  magrabia_dir_names:\n",
        "    path = f\"Magrabia/Magrabia/{magrabia_dir}\"\n",
        "    br_images = [_ for _ in os.listdir(path)]\n",
        "    annot_images_filenames = [_ for _ in br_images if _.find(\"prime\") == -1]\n",
        "    n = max([int(_.split(\"prime\")[0].replace(\"image\", \"\")) for _ in br_images if _.find(\"prime\") != -1])+1\n",
        "    print(f\"total images for {magrabia_dir}:\", n)\n",
        "    for i in tqdm(range(1, n)):\n",
        "        fp = f\"RIGA_with_mask/{magrabia_dir}/image{i}prime.bmp\"\n",
        "\n",
        "        \n",
        "        im_prime_filename = f\"image{i}prime.tif\"\n",
        "        im_prime_path = f\"{path}/{im_prime_filename}\"\n",
        "        im_prime = None\n",
        "        # im_prime.save(fp, quality=100)\n",
        "        \n",
        "        for j in range(1, 7):\n",
        "\n",
        "            if f\"RIGA_with_mask/{magrabia_dir}/image{i}-{j}\" not in exceptional_ratios: continue\n",
        "            \n",
        "            im_annot_path = f\"image{i}-{j}\"\n",
        "            \n",
        "            if (im_prime == None): im_prime = Image.open(im_prime_path)\n",
        "\n",
        "            try:\n",
        "                im_annot = Image.open(f\"{path}/Image{i}-{j}.tif\")\n",
        "            except FileNotFoundError:\n",
        "                im_annot = Image.open(f\"{path}/image{i}-{j}.tif\")\n",
        "            \n",
        "            try:\n",
        "                ratio_valid = False\n",
        "                for threshold in thresholds:\n",
        "                    disc, cup = get_prime_and_mask(im_prime, im_annot, threshold=threshold)\n",
        "                    total_pixels = cup.shape[0]*cup.shape[1]\n",
        "                    cup_pixels = np.sum(cup == 255)\n",
        "                    disc_pixels = np.sum(disc == 255)\n",
        "\n",
        "                    ratio = sqrt(cup_pixels/disc_pixels)\n",
        "                    ratio_valid = ((ratio > 0.1) and (ratio < 0.9))\n",
        "\n",
        "                    ratio_valid = ratio_valid and (cup_pixels/total_pixels <= 0.8) \n",
        "                    ratio_valid = ratio_valid and (disc_pixels/total_pixels <= 0.8)\n",
        "\n",
        "                    if ratio_valid: break\n",
        "\n",
        "                if (not ratio_valid):\n",
        "                    for threshold in thresholds:\n",
        "                        disc, cup = get_prime_and_mask_alternative(im_prime, im_annot, threshold=threshold)\n",
        "                        \n",
        "                        total_pixels = cup.shape[0]*cup.shape[1]\n",
        "                        cup_pixels = np.sum(cup == 255)\n",
        "                        disc_pixels = np.sum(disc == 255)\n",
        "\n",
        "                        ratio = sqrt(cup_pixels/disc_pixels)\n",
        "                        ratio_valid = ((ratio > 0.1) and (ratio < 0.9))\n",
        "\n",
        "\n",
        "                        ratio_valid = ratio_valid and (cup_pixels/total_pixels <= 0.8) \n",
        "                        ratio_valid = ratio_valid and (disc_pixels/total_pixels <= 0.8)\n",
        "\n",
        "                        if ratio_valid: break\n",
        "\n",
        "                if (not ratio_valid):\n",
        "                    print(f\"Error while parsing (ratio={ratio}): {path}/{im_annot_path}\")\n",
        "                    files_with_errors.append(f\"Ratio error (ratio={ratio}): {path}/{im_annot_path}\")\n",
        "                    continue #to next annotation\n",
        "        \n",
        "            except TypeError:\n",
        "                print(f\"Line collision: {path}/{im_annot_path}\")\n",
        "                files_with_errors.append(f\"Line collision: {path}/{im_annot_path}\")\n",
        "                continue #to next annotation\n",
        "\n",
        "            im_disc = Image.fromarray(disc)\n",
        "            im_cup = Image.fromarray(cup)\n",
        "\n",
        "            fp = f\"RIGA_with_mask/{magrabia_dir}/image{i}-{j}_disc.bmp\"\n",
        "            im_disc.save(fp, quality=100)\n",
        "\n",
        "            fp = f\"RIGA_with_mask/{magrabia_dir}/image{i}-{j}_cup.bmp\"\n",
        "            im_cup.save(fp, quality=100)"
      ],
      "execution_count": null,
      "outputs": []
    },
    {
      "cell_type": "code",
      "metadata": {
        "id": "J0HI0--KSkRI"
      },
      "source": [
        "\"\"\"Send All BinRushed to storage\"\"\"\n",
        "for binrushed_dir in binrushed_dir_names:\n",
        "    sub_dir = f\"BinRushed/BinRushed/{binrushed_dir}\"\n",
        "    !gsutil -m cp -r $sub_dir \"gs://[...]/cup-to-disc/datasets_with_masks/RIGA_with_mask\""
      ],
      "execution_count": null,
      "outputs": []
    },
    {
      "cell_type": "markdown",
      "metadata": {
        "id": "xje2qdFds7bQ"
      },
      "source": [
        "####Send to Storage"
      ]
    },
    {
      "cell_type": "code",
      "metadata": {
        "id": "Z3IJ1Q5_TZD5"
      },
      "source": [
        "# \"DELETE MASKS\"\n",
        "# !gsutil -m rm -r gs://[...]/cup-to-disc/datasets_with_masks/RIGA_with_mask\n"
      ],
      "execution_count": null,
      "outputs": []
    },
    {
      "cell_type": "code",
      "metadata": {
        "id": "KcXHERtS8lhy"
      },
      "source": [
        "\"\"\"Send All Parseds to storage\"\"\"\n",
        "!gsutil -m cp -r RIGA_with_mask gs://[...]/cup-to-disc/datasets_with_masks"
      ],
      "execution_count": null,
      "outputs": []
    },
    {
      "cell_type": "code",
      "metadata": {
        "id": "De7iq7V4CZ7g"
      },
      "source": [
        "# !rm -r Magrabia"
      ],
      "execution_count": null,
      "outputs": []
    },
    {
      "cell_type": "markdown",
      "metadata": {
        "id": "T-7IiQc-GaL-"
      },
      "source": [
        "###TEST"
      ]
    },
    {
      "cell_type": "code",
      "metadata": {
        "id": "8b_5OpDOIMFc"
      },
      "source": [
        "ratios = []\n",
        "exceptional_ratios = {}"
      ],
      "execution_count": null,
      "outputs": []
    },
    {
      "cell_type": "code",
      "metadata": {
        "id": "NgAPboB6Gbke"
      },
      "source": [
        "for group_dir in tqdm(os.listdir(\"RIGA_with_mask\")):\n",
        "    # if (group_dir.find(\"BinRushed\") == -1): continue\n",
        "    prime_image_names = [_ for _ in os.listdir(f\"RIGA_with_mask/{group_dir}\") if _.find(\"prime\") != -1]\n",
        "    path = f\"RIGA_with_mask/{group_dir}\"\n",
        "    for prime_image_name in tqdm(prime_image_names):\n",
        "        image_n = prime_image_name.split(\"prime\")[0].replace(\"image\", \"\")\n",
        "        for i in range(1, 7):\n",
        "            mask_path = f\"{path}/image{image_n}-{i}\"\n",
        "            try:\n",
        "                im_cup = Image.open(f\"{mask_path}_cup.bmp\")\n",
        "                im_disc = Image.open(f\"{mask_path}_disc.bmp\")\n",
        "                \n",
        "                cup = np.array(im_cup)\n",
        "                disc = np.array(im_disc)\n",
        "\n",
        "                total_pixels = cup.shape[0]*cup.shape[1]\n",
        "                cup_pixels = np.sum(cup == 255)\n",
        "                disc_pixels = np.sum(disc == 255)\n",
        "\n",
        "            except FileNotFoundError:\n",
        "                exceptional_ratios[mask_path] = \"NotFound\"\n",
        "            ratio = sqrt(cup_pixels/disc_pixels)\n",
        "            if (ratio < 0.1 or ratio > 0.9):\n",
        "                exceptional_ratios[mask_path] = ratio\n",
        "            elif (cup_pixels/total_pixels > 0.8) or (disc_pixels/total_pixels > 0.8):\n",
        "                exceptional_ratios[mask_path] = \"Overflowed\"\n",
        "            ratios.append(ratio)\n",
        "                "
      ],
      "execution_count": null,
      "outputs": []
    },
    {
      "cell_type": "code",
      "metadata": {
        "id": "TjhZNa9Xrjt7"
      },
      "source": [
        "plt.figure(figsize=(15,10))\n",
        "sns.distplot(ratios, hist=False, rug=True);"
      ],
      "execution_count": null,
      "outputs": []
    },
    {
      "cell_type": "code",
      "metadata": {
        "id": "1XjoA2-9Uecx"
      },
      "source": [
        "exceptional_ratios"
      ],
      "execution_count": null,
      "outputs": []
    }
  ]
}